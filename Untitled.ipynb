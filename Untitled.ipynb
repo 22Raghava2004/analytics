{
 "cells": [
  {
   "cell_type": "markdown",
   "id": "c0b2fab2-db2f-40e0-a1f7-69549a7efafd",
   "metadata": {},
   "source": [
    "import pandas as pd\n",
    "path=\"C:/Users/ragha/Downloads/analysis/earthquake_data_tsunami.csv\"\n",
    "df=pd.read_csv(path)\n",
    "print(df)"
   ]
  },
  {
   "cell_type": "code",
   "execution_count": null,
   "id": "ed55f587-851b-4cc6-9b2c-0d9776b2e562",
   "metadata": {},
   "outputs": [],
   "source": []
  }
 ],
 "metadata": {
  "kernelspec": {
   "display_name": "Python 3",
   "language": "python",
   "name": "python3"
  },
  "language_info": {
   "codemirror_mode": {
    "name": "ipython",
    "version": 3
   },
   "file_extension": ".py",
   "mimetype": "text/x-python",
   "name": "python",
   "nbconvert_exporter": "python",
   "pygments_lexer": "ipython3",
   "version": "3.10.11"
  }
 },
 "nbformat": 4,
 "nbformat_minor": 5
}
